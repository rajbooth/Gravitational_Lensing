{
 "cells": [
  {
   "cell_type": "code",
   "execution_count": 1,
   "metadata": {
    "collapsed": false
   },
   "outputs": [
    {
     "data": {
      "text/plain": [
       "<Figure size 800x800 with 1 Axes>"
      ]
     },
     "metadata": {},
     "output_type": "display_data"
    }
   ],
   "source": [
    "import matplotlib.pyplot as plt\n",
    "import numpy.random as rnd\n",
    "from matplotlib.patches import Ellipse\n",
    "\n",
    "NUM = 200\n",
    "\n",
    "ells = [Ellipse(xy=rnd.rand(2)-0.5, width=rnd.rand()*0.05 + 0.02, height=rnd.rand()*0.05 + 0.02, angle=rnd.rand()*360)\n",
    "        for i in range(NUM)]\n",
    "\n",
    "fig = plt.figure(figsize=(8,8))\n",
    "ax = fig.add_subplot(111, aspect='equal')\n",
    "for e in ells:\n",
    "    ax.add_artist(e)\n",
    "    e.set_clip_box(ax.bbox)\n",
    "    e.set_alpha(rnd.rand())\n",
    "    e.set_facecolor(rnd.rand(3))\n",
    "\n",
    "ax.set_xlim(-0.5,0.5)\n",
    "ax.set_ylim(-0.5,0.5)\n",
    "ax.set_xlabel('x (arcmin)')\n",
    "ax.set_ylabel('y (arcmin)')\n",
    "plt.savefig(\"galaxy_ellipses.pdf\",format='pdf')\n",
    "plt.show()"
   ]
  },
  {
   "cell_type": "code",
   "execution_count": null,
   "metadata": {
    "collapsed": true
   },
   "outputs": [],
   "source": []
  }
 ],
 "metadata": {
  "hide_input": false,
  "kernelspec": {
   "display_name": "Python 3",
   "language": "python",
   "name": "python3"
  },
  "language_info": {
   "codemirror_mode": {
    "name": "ipython",
    "version": 3
   },
   "file_extension": ".py",
   "mimetype": "text/x-python",
   "name": "python",
   "nbconvert_exporter": "python",
   "pygments_lexer": "ipython3",
   "version": "3.6.5"
  }
 },
 "nbformat": 4,
 "nbformat_minor": 2
}
