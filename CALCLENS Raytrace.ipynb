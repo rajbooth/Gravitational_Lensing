{
 "cells": [
  {
   "cell_type": "markdown",
   "metadata": {},
   "source": [
    "# Read CALCLENS raytrace output file"
   ]
  },
  {
   "cell_type": "code",
   "execution_count": 1,
   "metadata": {
    "collapsed": true
   },
   "outputs": [],
   "source": [
    "import numpy as np\n",
    "from astropy.table import Table, Column\n",
    "import matplotlib.pyplot as plt\n",
    "import matplotlib.patches as patches\n",
    "import matplotlib.text as text\n",
    "from mpl_toolkits.mplot3d import Axes3D\n",
    "import math\n",
    "from scipy.constants import *\n",
    "import sympy as sp"
   ]
  },
  {
   "cell_type": "markdown",
   "metadata": {},
   "source": [
    " # SIS surface mass density\n",
    "$\\Sigma(\\xi) = 2\\dfrac{\\sigma_v^2}{2 \\pi G} \\displaystyle\\int^\\infty_0 \\dfrac{dz}{\\xi^2+z^2}$\n",
    "\n",
    "$\\Sigma(\\xi) = \\dfrac{\\sigma_v^2}{\\pi G\\xi} \\left[\\arctan{ \\dfrac{z}{\\xi}} \\right]^{\\infty}_{0}$\n",
    "\n",
    "$\\Sigma(\\xi) = \\dfrac{\\sigma_v^2}{2G\\xi}$\n",
    " \n",
    "$\\rho(r) = \\dfrac{\\sigma_v^2}{2\\pi G r^2}$\n",
    " \n",
    "$\\sigma_v^2 = \\dfrac{NmG}{r_{max}}$\n",
    "\n",
    "$\\Sigma(\\xi) = \\dfrac{Nm}{2\\xi r_{max}}$\n",
    " "
   ]
  },
  {
   "cell_type": "markdown",
   "metadata": {},
   "source": [
    "# Critical Surface Mass Density\n",
    "$\\Sigma_{cr} = \\dfrac{c^2}{4 \\pi G} \\dfrac{D_s}{D_d D_{ds}}$\n",
    "\n",
    "$D_s=R_{n+1} - R_{n-1}$\n",
    "\n",
    "$D_d=R_n - R_{n-1}$\n",
    "\n",
    "$D_{ds}= R_{n+1} - R_n$\n"
   ]
  },
  {
   "cell_type": "markdown",
   "metadata": {},
   "source": [
    "# Convergence\n",
    "$\\kappa(\\xi) = \\dfrac{\\Sigma_{\\xi}}{\\Sigma_{cr}}$\n",
    "\n",
    "For full SIS\n",
    "\n",
    "$ \\kappa(\\xi) = \\dfrac{2 \\pi \\sigma_v^2}{c^2 \\xi} \\dfrac{D_d D_{ds}}{D_s} $\n",
    "\n",
    "$ \\kappa(\\theta) = \\dfrac{2 \\pi \\sigma_v^2}{c^2 \\theta} \\dfrac{D_{ds}}{D_s} $\n",
    "\n",
    "For truncated SIS with max radius R\n",
    "\n",
    "$\\kappa(\\xi) = \\dfrac{4 \\sigma_v^2}{c^2 \\xi} \\dfrac{D_d D_{ds}}{D_s} \\left[ \\arctan{\\dfrac{z}{\\xi}} \\right]_0^{\\sqrt{R^2 - \\xi^2}}$\n",
    "\n",
    "$\\kappa(\\xi) = \\dfrac{4 \\sigma_v^2}{c^2 \\xi } \\dfrac{D_d D_{ds}}{D_s} \\arctan{ \\left(\\dfrac{\\sqrt{R^2 - \\xi^2}}{\\xi} \\right)}$"
   ]
  },
  {
   "cell_type": "markdown",
   "metadata": {},
   "source": [
    "# Critical angle\n",
    "$\\theta_E = \\dfrac{D_{ds}}{D_s} \\dfrac{4 \\pi \\sigma_v^2}{c^2}$\n",
    "\n",
    "For our SIS model\n",
    "\n",
    "$\\rho(r) = \\dfrac{Nm}{r_{max} 2 \\pi r^2} = \\dfrac{\\rho_0}{r^2}$\n",
    "\n",
    "where $N$ is total number of particles in SIS, $m$ is particle mass, and $r_{max}$ is maximum radius of SIS.\n",
    "\n",
    "$\\rho_0 \\equiv \\dfrac{\\sigma_v^2}{2 \\pi G}$\n",
    "\n",
    "$\\sigma_v^2 = \\dfrac{NmG}{r_{max}}$\n",
    "\n",
    "Substituting for $\\sigma_v$\n",
    "\n",
    "$\\theta_E = \\dfrac{D_{ds}}{D_s} \\dfrac{4 \\pi NmG}{r_{max}c^2}$"
   ]
  },
  {
   "cell_type": "raw",
   "metadata": {},
   "source": [
    "# Configure header type\n",
    "struct IOheader {\n",
    "    long NumFiles;\n",
    "    long PeanoCellHEALPixOrder;\n",
    "    long RayHEALPixOrder;\n",
    "    long flag_defl;\n",
    "    long flag_phi;\n",
    "    char pad[216]; //pad to 256 bytes\n",
    "  } header;\n"
   ]
  },
  {
   "cell_type": "code",
   "execution_count": 2,
   "metadata": {
    "collapsed": true
   },
   "outputs": [],
   "source": [
    "header = np.dtype([('Headlen',np.int32),('NumFiles',np.int64),('PeanoCellHEALPixOrder',np.int64),('RayHEALPixOrder',np.int64),\n",
    "          ('flag_defl',np.int64),('flag_phi',np.int64),\n",
    "          ('pad',np.int8,216),('Headlen2',np.int32)])\n",
    "\n",
    "ray = np.dtype([('nest',np.uint64),('ra','<f8'),('dec',np.double),\n",
    "              ('A0',np.double),('A1',np.double),('A2',np.double),('A3',np.double),('phi',np.double)])"
   ]
  },
  {
   "cell_type": "code",
   "execution_count": 3,
   "metadata": {
    "collapsed": false
   },
   "outputs": [
    {
     "data": {
      "text/plain": [
       "dtype([('Headlen', '<i4'), ('NumFiles', '<i8'), ('PeanoCellHEALPixOrder', '<i8'), ('RayHEALPixOrder', '<i8'), ('flag_defl', '<i8'), ('flag_phi', '<i8'), ('pad', 'i1', (216,)), ('Headlen2', '<i4')])"
      ]
     },
     "execution_count": 3,
     "metadata": {},
     "output_type": "execute_result"
    }
   ],
   "source": [
    "header"
   ]
  },
  {
   "cell_type": "code",
   "execution_count": 5,
   "metadata": {
    "collapsed": true
   },
   "outputs": [],
   "source": [
    "#f = open('/Users/robin/OneDrive/Cosmology/Lens Planes/Rays/16-03-2018/raydata0001.0000','rb')\n",
    "#f = open('/home/robin/Projects/calclens-0.9/outputs/raydata0001.0000','rb')\n",
    "#f = open('E:/OneDrive/Cosmology/Lens Planes/Rays/16-03-2018/raydata0001.0000','rb')\n",
    "#f = open('D:/Cosmological Data/CALCLENS/raydata0001.0000','rb')\n",
    "f = open('/cosma6/data/dp004/dc-boot5/raytrace/Rays/16-03-2018/raydata0001.0000','rb')\n",
    "headdata=np.fromfile(f, dtype=header,count=1)"
   ]
  },
  {
   "cell_type": "code",
   "execution_count": 6,
   "metadata": {
    "collapsed": true
   },
   "outputs": [],
   "source": [
    "dummy = np.fromfile(f,np.dtype(np.int32),count=1)"
   ]
  },
  {
   "cell_type": "code",
   "execution_count": 7,
   "metadata": {
    "collapsed": true
   },
   "outputs": [],
   "source": [
    "nrays = np.fromfile(f, np.dtype(np.int64),count=dummy[0]//8)"
   ]
  },
  {
   "cell_type": "code",
   "execution_count": 8,
   "metadata": {
    "collapsed": true
   },
   "outputs": [],
   "source": [
    "dummy = np.fromfile(f,np.dtype(np.int32),count=1)"
   ]
  },
  {
   "cell_type": "code",
   "execution_count": 9,
   "metadata": {
    "collapsed": true
   },
   "outputs": [],
   "source": [
    "dummy = np.fromfile(f,np.dtype(np.int32),count=1)"
   ]
  },
  {
   "cell_type": "code",
   "execution_count": 10,
   "metadata": {
    "collapsed": true
   },
   "outputs": [],
   "source": [
    "startrays = np.fromfile(f, np.dtype(np.int64),count=dummy[0]//8)"
   ]
  },
  {
   "cell_type": "code",
   "execution_count": 11,
   "metadata": {
    "collapsed": false
   },
   "outputs": [
    {
     "name": "stdout",
     "output_type": "stream",
     "text": [
      "NbundleCells * 4 =  98304\n"
     ]
    }
   ],
   "source": [
    "dummy = np.fromfile(f,np.dtype(np.int32),count=1)\n",
    "print(\"NbundleCells * 4 = \",dummy[0])"
   ]
  },
  {
   "cell_type": "code",
   "execution_count": 12,
   "metadata": {
    "collapsed": false
   },
   "outputs": [
    {
     "name": "stdout",
     "output_type": "stream",
     "text": [
      "NumRaysInFile*rays= 7417856\n"
     ]
    }
   ],
   "source": [
    "dummy = np.fromfile(f,np.dtype(np.int32),count=1)\n",
    "print(\"NumRaysInFile*rays=\",dummy[0])"
   ]
  },
  {
   "cell_type": "code",
   "execution_count": 13,
   "metadata": {
    "collapsed": true
   },
   "outputs": [],
   "source": [
    "raydata = np.fromfile(f,dtype=ray, count = dummy[0]//56)"
   ]
  },
  {
   "cell_type": "code",
   "execution_count": 14,
   "metadata": {
    "collapsed": false,
    "scrolled": true
   },
   "outputs": [
    {
     "data": {
      "text/html": [
       "<i>Table length=116</i>\n",
       "<table id=\"table47631727555976\" class=\"table-striped table-bordered table-condensed\">\n",
       "<thead><tr><th>nest</th><th>ra</th><th>dec</th><th>A0</th><th>A1</th><th>A2</th><th>A3</th><th>phi</th></tr></thead>\n",
       "<thead><tr><th>uint64</th><th>float64</th><th>float64</th><th>float64</th><th>float64</th><th>float64</th><th>float64</th><th>float64</th></tr></thead>\n",
       "<tr><td>65472</td><td>45.0</td><td>88.3</td><td>1.05842</td><td>-0.00000</td><td>0.00042</td><td>1.00572</td><td>0.00000e+00</td></tr>\n",
       "<tr><td>65192</td><td>354.8</td><td>84.6</td><td>1.04348</td><td>0.01748</td><td>0.01752</td><td>1.02066</td><td>0.00000e+00</td></tr>\n",
       "<tr><td>63824</td><td>42.0</td><td>78.7</td><td>1.04437</td><td>0.00072</td><td>0.00088</td><td>1.01977</td><td>0.00000e+00</td></tr>\n",
       "<tr><td>61944</td><td>53.2</td><td>75.3</td><td>1.04223</td><td>-0.00086</td><td>-0.00102</td><td>1.02192</td><td>0.00000e+00</td></tr>\n",
       "<tr><td>62752</td><td>74.3</td><td>77.0</td><td>1.04390</td><td>-0.00527</td><td>-0.00514</td><td>1.02025</td><td>0.00000e+00</td></tr>\n",
       "<tr><td>56776</td><td>86.0</td><td>73.5</td><td>1.04337</td><td>-0.00671</td><td>-0.00656</td><td>1.02078</td><td>0.00000e+00</td></tr>\n",
       "<tr><td>54896</td><td>78.2</td><td>67.2</td><td>1.04208</td><td>-0.00215</td><td>-0.00219</td><td>1.02206</td><td>0.00000e+00</td></tr>\n",
       "<tr><td>53848</td><td>62.1</td><td>60.8</td><td>1.03841</td><td>0.00074</td><td>0.00078</td><td>1.02573</td><td>0.00000e+00</td></tr>\n",
       "<tr><td>55872</td><td>53.5</td><td>65.9</td><td>1.03821</td><td>0.00003</td><td>0.00032</td><td>1.02593</td><td>0.00000e+00</td></tr>\n",
       "<tr><td>52520</td><td>47.8</td><td>59.3</td><td>1.03707</td><td>0.00011</td><td>0.00014</td><td>1.02707</td><td>0.00000e+00</td></tr>\n",
       "<tr><td>...</td><td>...</td><td>...</td><td>...</td><td>...</td><td>...</td><td>...</td><td>...</td></tr>\n",
       "<tr><td>315920</td><td>8.4</td><td>12.2</td><td>1.03415</td><td>-0.01003</td><td>-0.01012</td><td>1.02999</td><td>0.00000e+00</td></tr>\n",
       "<tr><td>312696</td><td>8.8</td><td>9.4</td><td>1.03219</td><td>-0.01099</td><td>-0.01090</td><td>1.03195</td><td>0.00000e+00</td></tr>\n",
       "<tr><td>311648</td><td>2.7</td><td>3.6</td><td>1.03331</td><td>-0.02002</td><td>-0.02012</td><td>1.03083</td><td>0.00000e+00</td></tr>\n",
       "<tr><td>313800</td><td>355.9</td><td>9.5</td><td>0.98199</td><td>-0.01420</td><td>-0.01433</td><td>1.01802</td><td>0.00000e+00</td></tr>\n",
       "<tr><td>315312</td><td>357.5</td><td>16.7</td><td>0.98051</td><td>-0.00903</td><td>-0.00900</td><td>1.01949</td><td>0.00000e+00</td></tr>\n",
       "<tr><td>323800</td><td>359.2</td><td>22.8</td><td>1.04382</td><td>-0.00622</td><td>-0.00624</td><td>1.02032</td><td>0.00000e+00</td></tr>\n",
       "<tr><td>324800</td><td>4.5</td><td>27.2</td><td>1.04027</td><td>-0.00573</td><td>-0.00582</td><td>1.02387</td><td>0.00000e+00</td></tr>\n",
       "<tr><td>326824</td><td>356.2</td><td>32.4</td><td>0.98221</td><td>-0.00404</td><td>-0.00405</td><td>1.01780</td><td>0.00000e+00</td></tr>\n",
       "<tr><td>218192</td><td>355.1</td><td>38.0</td><td>0.98244</td><td>-0.00292</td><td>-0.00294</td><td>1.01756</td><td>0.00000e+00</td></tr>\n",
       "<tr><td>251768</td><td>353.9</td><td>70.3</td><td>0.97953</td><td>0.00569</td><td>0.00563</td><td>1.02047</td><td>0.00000e+00</td></tr>\n",
       "</table>"
      ],
      "text/plain": [
       "<Table length=116>\n",
       " nest     ra     dec      A0      A1       A2       A3       phi    \n",
       "uint64 float64 float64 float64 float64  float64  float64   float64  \n",
       "------ ------- ------- ------- -------- -------- ------- -----------\n",
       " 65472    45.0    88.3 1.05842 -0.00000  0.00042 1.00572 0.00000e+00\n",
       " 65192   354.8    84.6 1.04348  0.01748  0.01752 1.02066 0.00000e+00\n",
       " 63824    42.0    78.7 1.04437  0.00072  0.00088 1.01977 0.00000e+00\n",
       " 61944    53.2    75.3 1.04223 -0.00086 -0.00102 1.02192 0.00000e+00\n",
       " 62752    74.3    77.0 1.04390 -0.00527 -0.00514 1.02025 0.00000e+00\n",
       " 56776    86.0    73.5 1.04337 -0.00671 -0.00656 1.02078 0.00000e+00\n",
       " 54896    78.2    67.2 1.04208 -0.00215 -0.00219 1.02206 0.00000e+00\n",
       " 53848    62.1    60.8 1.03841  0.00074  0.00078 1.02573 0.00000e+00\n",
       " 55872    53.5    65.9 1.03821  0.00003  0.00032 1.02593 0.00000e+00\n",
       " 52520    47.8    59.3 1.03707  0.00011  0.00014 1.02707 0.00000e+00\n",
       "   ...     ...     ...     ...      ...      ...     ...         ...\n",
       "315920     8.4    12.2 1.03415 -0.01003 -0.01012 1.02999 0.00000e+00\n",
       "312696     8.8     9.4 1.03219 -0.01099 -0.01090 1.03195 0.00000e+00\n",
       "311648     2.7     3.6 1.03331 -0.02002 -0.02012 1.03083 0.00000e+00\n",
       "313800   355.9     9.5 0.98199 -0.01420 -0.01433 1.01802 0.00000e+00\n",
       "315312   357.5    16.7 0.98051 -0.00903 -0.00900 1.01949 0.00000e+00\n",
       "323800   359.2    22.8 1.04382 -0.00622 -0.00624 1.02032 0.00000e+00\n",
       "324800     4.5    27.2 1.04027 -0.00573 -0.00582 1.02387 0.00000e+00\n",
       "326824   356.2    32.4 0.98221 -0.00404 -0.00405 1.01780 0.00000e+00\n",
       "218192   355.1    38.0 0.98244 -0.00292 -0.00294 1.01756 0.00000e+00\n",
       "251768   353.9    70.3 0.97953  0.00569  0.00563 1.02047 0.00000e+00"
      ]
     },
     "execution_count": 14,
     "metadata": {},
     "output_type": "execute_result"
    }
   ],
   "source": [
    "tab=Table(raydata[::1000])\n",
    "col=tab.columns['ra']\n",
    "col.format = \"%4.1f\"\n",
    "col=tab.columns['dec']\n",
    "col.format = \"%4.1f\"\n",
    "col=tab.columns['A0']\n",
    "col.format = \"%4.5f\"\n",
    "col=tab.columns['A1']\n",
    "col.format = \"%4.5f\"\n",
    "col=tab.columns['A2']\n",
    "col.format = \"%4.5f\"\n",
    "col=tab.columns['A3']\n",
    "col.format = \"%4.5f\"\n",
    "col=tab.columns['phi']\n",
    "col.format = \"%4.5e\"\n",
    "tab"
   ]
  },
  {
   "cell_type": "code",
   "execution_count": 15,
   "metadata": {
    "collapsed": false
   },
   "outputs": [
    {
     "name": "stdout",
     "output_type": "stream",
     "text": [
      "theta_max= 0.0764 degrees\n",
      "sigma_v=2.080e+06 m/s\n",
      "Lens geometry factor =  375.0\n"
     ]
    }
   ],
   "source": [
    "N=1e5 #number of particles in SIS\n",
    "R = 1 #SIS radius in Megaparsecs\n",
    "r_m = R * parsec * 1e6 #SIS radius in metres\n",
    "m = 1e10 * 2e30 #particle mass = number of solar masses * solar mass\n",
    "D_s = 1500 #distance from observer to source\n",
    "D_ds = 750 #distance from lens plane to source\n",
    "D_d = 750  #distance from observer to lens plane\n",
    "\n",
    "theta_max = R/D_d / np.pi * 180 #convert SIS radius to degrees\n",
    "print(\"theta_max= {:1.4f} degrees\".format(theta_max))\n",
    "\n",
    "sigma_v=  np.sqrt((N*m*G)/(r_m))\n",
    "print('sigma_v={:4.3e} m/s'.format(sigma_v))\n",
    "\n",
    "D = D_d * D_ds / D_s\n",
    "print('Lens geometry factor = {:6.1f}'.format(D))"
   ]
  },
  {
   "cell_type": "markdown",
   "metadata": {},
   "source": [
    "# Convergence plot"
   ]
  },
  {
   "cell_type": "code",
   "execution_count": 16,
   "metadata": {
    "collapsed": false
   },
   "outputs": [
    {
     "data": {
      "image/png": "[encoded data removed]",
      "text/plain": [
       "<Figure size 576x576 with 1 Axes>"
      ]
     },
     "metadata": {},
     "output_type": "display_data"
    }
   ],
   "source": [
    "fig = plt.figure(figsize=(8,8))\n",
    "ax = fig.add_subplot(111, projection='3d')\n",
    "\n",
    "# Create the mesh in polar coordinates and compute corresponding Z.\n",
    "r = np.linspace(-10, 10, 50)\n",
    "p = np.linspace(-10, 10, 50)\n",
    "#R, P = np.meshgrid(r, p)\n",
    "\n",
    "x = tab.columns['ra'] \n",
    "y = tab.columns['dec']\n",
    "k = (1-0.5*(tab.columns['A0']+tab.columns['A3'])) \n",
    "z = tab.columns['phi']\n",
    "\n",
    "# Plot the surface.\n",
    "ax.scatter(x, y, k, color='b',s=1)\n",
    "ax.view_init(10,50)\n",
    "\n",
    "#ax.set_xlim(179.6,180.4)\n",
    "#ax.set_ylim(-0.4,0.4)\n",
    "ax.set_zlim(0, 0.5)\n",
    "\n",
    "\n",
    "plt.show()"
   ]
  },
  {
   "cell_type": "code",
   "execution_count": 17,
   "metadata": {
    "collapsed": true
   },
   "outputs": [],
   "source": [
    "fix = 1"
   ]
  },
  {
   "cell_type": "code",
   "execution_count": 18,
   "metadata": {
    "collapsed": false
   },
   "outputs": [
    {
     "data": {
      "image/png": "[encoded data removed]",
      "text/plain": [
       "<Figure size 432x432 with 1 Axes>"
      ]
     },
     "metadata": {},
     "output_type": "display_data"
    }
   ],
   "source": [
    "fig2,ax2 = plt.subplots(1,1,figsize=(6,6))\n",
    "\n",
    "a = np.linspace(0.001, theta_max, 100)\n",
    "theta=np.sqrt((x-180)*(x-180)+y*y)\n",
    "b = (a * np.pi * D_d)/180\n",
    "w = np.arctan(np.sqrt(R**2-b**2)/b)\n",
    "ax2.scatter(theta,k, s=1,label='CALCLENS')\n",
    "#ax2.plot(a,(2 * np.pi * sigma_v**2)/(c**2 * a) * D,c='r', label='Infinite SIS')\n",
    "ax2.plot(a,(4 * sigma_v**2)/(c**2 * b) * D * w * fix ,c='r', label='Truncated SIS')\n",
    "ax2.set_xlabel(r'$\\theta$')\n",
    "ax2.set_ylabel('$\\kappa$')\n",
    "ax2.set_xlim(0,0.1)\n",
    "ax2.set_ylim(0,0.5)\n",
    "plt.legend()\n",
    "plt.show()"
   ]
  },
  {
   "cell_type": "markdown",
   "metadata": {},
   "source": [
    "# Shear plot"
   ]
  },
  {
   "cell_type": "code",
   "execution_count": 19,
   "metadata": {
    "collapsed": false
   },
   "outputs": [
    {
     "data": {
      "image/png": "[encoded data removed]",
      "text/plain": [
       "<Figure size 576x576 with 1 Axes>"
      ]
     },
     "metadata": {},
     "output_type": "display_data"
    }
   ],
   "source": [
    "gamma1 = (0.5*(tab.columns['A0']-tab.columns['A3'])) \n",
    "gamma2 = -tab.columns['A1']\n",
    "gamma = np.sqrt(gamma1**2+gamma2**2);\n",
    "\n",
    "phi = 0.5 * np.arccos((gamma1)/gamma) * np.sign(gamma2)\n",
    "    \n",
    "u = gamma * np.sin(phi);\n",
    "v = gamma * np.cos(phi);\n",
    "\n",
    "fig, ax = plt.subplots(1, 1,figsize=(8,8))\n",
    "\n",
    "qiv  = ax.quiver(x,y,u,v, pivot ='mid', scale= 5,headlength=0, headwidth=0, headaxislength=0)\n",
    "ax.set_xlim(179.8,180.2)\n",
    "ax.set_ylim(-0.2,0.2)\n",
    "ax.set_xlabel('dec')\n",
    "ax.set_ylabel('ra')\n",
    "\n",
    "plt.show()"
   ]
  },
  {
   "cell_type": "code",
   "execution_count": 41,
   "metadata": {
    "collapsed": false
   },
   "outputs": [
    {
     "data": {
      "image/png": "[encoded data removed]",
      "text/plain": [
       "<matplotlib.figure.Figure at 0x115cc8390>"
      ]
     },
     "metadata": {},
     "output_type": "display_data"
    }
   ],
   "source": [
    "fig, ax = plt.subplots(figsize=(15, 8))\n",
    "plt.axis('off');                   \n",
    "ax.add_patch(plt.Rectangle((-10, -10), 210, 120,fill=False,ec='0.5'))\n",
    "\n",
    "ax.add_patch(patches.Ellipse((100,50), 30, 80, -30, fc='0.7'))\n",
    "\n",
    "ax.add_line(plt.Line2D((0,150), (0, 75), lw=1, c='k'))\n",
    "ax.annotate(\"X\",xy=(150,50))\n",
    "\n",
    "ax.add_line(plt.Line2D((80,120), (90, 10), lw=1, c='k'))\n",
    "ax.annotate(\"x'\",xy=(120,8))\n",
    "\n",
    "ax.add_line(plt.Line2D((50,150), (50, 50), lw=1, c='k', ls='dashed'))\n",
    "ax.annotate(\"y'\",xy=(150,75))\n",
    "\n",
    "ax.add_line(plt.Line2D((100,100), (5, 95), lw=1, c='k', ls='dashed'))\n",
    "ax.annotate(\"Y\",xy=(102,5))\n",
    "\n",
    "ax.add_line(plt.Line2D((74,126), (5, 95), lw=1, c='k', ls='dotted'))\n",
    "\n",
    "ax.arrow(0, 0, 0,100, head_width=2, head_length=5, fc='k', ec='k')\n",
    "ax.annotate(\"y\",xy=(5,100))\n",
    "            \n",
    "ax.arrow(0, 0, 190,0, head_width=2, head_length=5, fc='k', ec='k')\n",
    "ax.annotate(\"x\",xy=(190,5))\n",
    "\n",
    "ax.add_patch(patches.Arc((0,0), 30, 30, angle=0.0, theta1=0, theta2=26))\n",
    "ax.annotate(r\"$\\psi$\",xy=(20,5))\n",
    "ax.add_patch(patches.Arc((100,50), 45, 45, angle=0, theta1=0, theta2=26))\n",
    "ax.annotate(r\"$\\psi$\",xy=(124,54))\n",
    "ax.add_patch(patches.Arc((100,50), 15, 15, angle=0.0, theta1=0, theta2=59))\n",
    "ax.annotate(r\"$\\phi$\",xy=(106,56))\n",
    "ax.add_patch(patches.Arc((100,50), 30, 30, angle=0.0, theta1=-62, theta2=59))\n",
    "ax.annotate(r\"$\\phi'$\",xy=(115,40))\n",
    "\n",
    "plt.axis('scaled')\n",
    "plt.show()"
   ]
  },
  {
   "cell_type": "markdown",
   "metadata": {},
   "source": [
    "$\\psi = \\arctan(ra/dec)$\n",
    "\n",
    "$\\phi^\\prime = \\pi/2 + \\phi - \\psi$\n",
    "\n",
    "$\\gamma_t = \\gamma \\cos(2 \\phi^\\prime)$"
   ]
  },
  {
   "cell_type": "code",
   "execution_count": 42,
   "metadata": {
    "collapsed": true
   },
   "outputs": [],
   "source": [
    "psi = np.arctan((x-180)/y);\n",
    "phi_prime = np.pi/2 + phi - psi;\n",
    "gamma_t = gamma * np.cos(2 * phi_prime);\n",
    "#tabdata = zip(theta, x, y, psi, gamma, gamma_t);\n",
    "#sortdata = sorted(tabdata, key=lambda x: x[0]);\n",
    "#for (i,j,k,l,m,n) in sortdata:\n",
    "#    print(i,j,k,l,m,n);"
   ]
  },
  {
   "cell_type": "markdown",
   "metadata": {},
   "source": [
    "# Shear\n",
    "\n",
    "\n",
    "$\\gamma_t(x) = \\dfrac{\\bar{\\Sigma}(x)-\\Sigma(x)}{\\Sigma_{crit}}$\n",
    "\n",
    "For a truncated SIS:\n",
    "\n",
    "$\\Sigma_{SIS}(\\xi) = 2\\dfrac{\\sigma_v^2}{2 \\pi G} \\displaystyle\\int^{\\sqrt{R^2-\\xi^2}}_0 \\dfrac{dz}{\\xi^2+z^2}$\n",
    "\n",
    "where $R$ is truncation radius\n",
    "\n",
    "$\\Sigma_{SIS}(\\xi) = \\dfrac{\\sigma_v^2}{\\pi G \\xi} \\left[\\arctan{\\dfrac{z}{\\xi}} \\right]^{\\sqrt{R^2-\\xi^2}}_{0}$\n",
    "\n",
    "$\\bar{\\Sigma}_{SIS}(x) = \\dfrac{2}{x^2} \\displaystyle\\int_0^x \\xi \\Sigma_{SIS}(\\xi) d\\xi$\n",
    "\n",
    "$\\bar{\\Sigma}_{SIS}(x) = \\dfrac{2}{x^2}\\dfrac{\\sigma_v^2}{\\pi G}  \\displaystyle\\int_0^x \\arctan{\\left(\\dfrac{\\sqrt{R^2-\\xi^2}}{\\xi} \\right)} d\\xi$\n",
    "\n",
    "Using normalised units, where $x = \\xi/R$\n",
    "\n",
    "$\\bar{\\Sigma}_{SIS}(x) = \\dfrac{2}{x^2} \\dfrac{\\sigma_v^2}{\\pi G} \\left( 1 - \\sqrt{1-x^2} + x \\arctan{\\left[ \\dfrac{\\sqrt{1-x^2}}{x} \\right]}  \\right)$\n",
    "\n",
    "$\\gamma_t(x) = \\dfrac{\\bar{\\Sigma}(x)-\\Sigma(x)}{\\Sigma_{crit}}$\n",
    "\n",
    "$\\gamma_t(x) = \\dfrac{4 \\pi G}{c^2} \\dfrac{D_d D_{ds}}{D_s}.\\dfrac{\\sigma_v^2}{\\pi Gx}.\n",
    "\\left( \\dfrac{2}{x} \\left(1 -\\sqrt{1-x^2} + x \\arctan{\\left[ \\dfrac{\\sqrt{1-x^2}}{x} \\right]} \\right)\n",
    "- \\arctan{\\left[ \\dfrac{\\sqrt{1-x^2}}{x}  \\right]} \\right)$\n",
    "\n",
    "For $x<R$:\n",
    "\n",
    "$\\gamma_t(x) = \\dfrac{D_d D_{ds}}{D_s}.\\dfrac{4\\sigma_v^2}{c^2}.\n",
    "\\left( \\dfrac{2}{x} \\left(1 -\\sqrt{1-x^2} \\right) +  \\arctan{\\left[ \\dfrac{\\sqrt{1-x^2}}{x} \\right]} \\right)$\n",
    "\n",
    "For $x>R$:\n",
    "\n",
    "$\\gamma_t(x) = \\dfrac{D_d D_{ds}}{D_s}.\\dfrac{4\\sigma_v^2}{c^2}.\n",
    "\\left( \\dfrac{2}{x} \\left(1 -\\sqrt{x^2 -1} \\right) +  \\arctan{\\left[ \\dfrac{\\sqrt{x^2 -1}}{x} \\right]} \\right)$"
   ]
  },
  {
   "cell_type": "code",
   "execution_count": 43,
   "metadata": {
    "collapsed": true,
    "scrolled": false
   },
   "outputs": [],
   "source": [
    "fix = 0.4\n",
    "e = np.linspace(theta_max, 0.5, 100)\n",
    "d = (e * np.pi * D_d)/180\n",
    "w1 = 2/b * (1 - np.sqrt(1-b**2)) + np.arctan(np.sqrt(1-b**2)/b) * fix\n",
    "w2 =  2/d * (1 - np.sqrt(d**2 -1)) + np.arctan(np.sqrt(d**2 -1)/d) * fix"
   ]
  },
  {
   "cell_type": "code",
   "execution_count": 44,
   "metadata": {
    "collapsed": false
   },
   "outputs": [
    {
     "data": {
      "image/png": "[encoded data removed]",
      "text/plain": [
       "<matplotlib.figure.Figure at 0x114931080>"
      ]
     },
     "metadata": {},
     "output_type": "display_data"
    }
   ],
   "source": [
    "fig3,ax3 = plt.subplots(1,1,figsize=(6,6))\n",
    "\n",
    "#ax3.scatter(theta,gamma, s=1,label='CALCLENS')\n",
    "ax3.scatter(theta,gamma_t, c='g',s=1,label=r'CALCLENS $\\gamma_t$')\n",
    "#ax3.plot(a,(2 *np.pi * sigma_v**2)/(c**2 * b) * D,c='r', label='Infinite SIS')\n",
    "ax3.plot(a,(4 * sigma_v**2)/(c**2 * b) * D * w1 ,c='r', label='Truncated SIS')\n",
    "ax3.plot(e,(4 * sigma_v**2)/(c**2 * d) * D * w2  ,c='r')\n",
    "ax3.set_xlabel(r'$\\theta$')\n",
    "ax3.set_ylabel(r'$\\gamma_t$')\n",
    "ax3.set_xlim(0,0.25)\n",
    "ax3.set_ylim(0,0.5)\n",
    "plt.legend()\n",
    "plt.show()"
   ]
  },
  {
   "cell_type": "code",
   "execution_count": null,
   "metadata": {
    "collapsed": true
   },
   "outputs": [],
   "source": []
  },
  {
   "cell_type": "code",
   "execution_count": null,
   "metadata": {
    "collapsed": true
   },
   "outputs": [],
   "source": []
  }
 ],
 "metadata": {
  "hide_input": false,
  "kernelspec": {
   "display_name": "Python 3",
   "language": "python",
   "name": "python3"
  },
  "language_info": {
   "codemirror_mode": {
    "name": "ipython",
    "version": 3
   },
   "file_extension": ".py",
   "mimetype": "text/x-python",
   "name": "python",
   "nbconvert_exporter": "python",
   "pygments_lexer": "ipython3",
   "version": "3.6.5"
  }
 },
 "nbformat": 4,
 "nbformat_minor": 2
}
