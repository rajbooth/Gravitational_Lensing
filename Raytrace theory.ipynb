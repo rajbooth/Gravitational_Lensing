{
 "cells": [
  {
   "cell_type": "code",
   "execution_count": 2,
   "metadata": {},
   "outputs": [],
   "source": [
    "from IPython.display import Image,display\n",
    "import numpy as np\n",
    "import math\n",
    "import healpy as hp\n",
    "from astropy.table import Table\n",
    "from astropy.coordinates import Angle\n",
    "from astropy import units as u"
   ]
  },
  {
   "cell_type": "markdown",
   "metadata": {},
   "source": [
    "## Shear\n",
    "\n",
    "Dodelson, sect 10.2\n",
    "\n",
    "Use Born approximation: light rays are not deflected as they pass through space\n",
    "\n",
    "$$ \\kappa(\\theta) = \\int{d\\chi \\delta(\\chi, \\vec{\\theta})} $$\n",
    "\n",
    "$$\\psi_{i,j} = \\int_0^{\\chi=\\infty}{d\\chi W(\\chi) } \\int_0^{\\chi}{d\\chi \\Phi \\frac{\\chi^\\prime(1-\\chi^ \\prime)}{\\chi^\\prime}  }$$\n",
    "\n",
    "where $\\Phi_{1,1} + \\Phi_{2,2} = \\nabla^2 \\Phi$\n",
    "\n",
    "$$\\kappa(\\phi)= \\frac{\\psi_{1,1} - \\psi_{2,2}}{2} $$"
   ]
  },
  {
   "cell_type": "markdown",
   "metadata": {},
   "source": [
    "## Fabbian et al\n",
    "In weak lensing formalism, the effect of\n",
    "deflections of light rays along the entire line of sight is described by the lens equation,\n",
    "which maps the final position $(t, \\boldsymbol\\beta, \\chi)$ of the\n",
    "ray to the position of its source $\\boldsymbol\\theta$, i.e.\n",
    "$$\n",
    "\\beta_i (\\boldsymbol\\theta, \\chi) = \\theta_i -\n",
    "\\frac{2}{c^2}\\int_0^{\\chi}\\frac{f_K(\\chi -\n",
    "  \\chi')}{f_K(\\chi)f_K(\\chi')}\n",
    "\\Psi,_{\\beta_i}\\left(\\boldsymbol\\beta(\\boldsymbol\\theta,\n",
    "\\chi'), \\chi' \\right) {\\rm d}\\chi', \n",
    "\\label{eq:lenseq}\n",
    "$$\n",
    "where $\\Psi(t, \\boldsymbol\\beta, \\chi)$ is a gravitational potential located on the photon path and $,_{\\beta_i}$ its spatial derivative with respect to the photon's position $\\boldsymbol\\beta$.\n",
    "Here $f_K(\\chi)$ is the\n",
    "standard angular diameter distance for a universe with curvature $K$.\n",
    "The relative position of nearby light rays is quantified by the\n",
    "derivative of the equation above\n",
    "$$ A_{ij}(\\boldsymbol\\theta,\\chi) \\equiv \\frac{\\partial \\beta_i(\\boldsymbol\\theta,\\chi)}{\\partial \\theta_j}  $$\n",
    "  \n",
    "$$ =  \\delta^K_{ij} - \\frac{2}{c^2}\\int_0^{\\chi}\\frac{f_K(\\chi -\n",
    "  \\chi')}{f_K(\\chi)f_K(\\chi')}\n",
    "\\Psi,_{\\beta_i\\beta_k}\\left(\\boldsymbol\\beta(\\boldsymbol\\theta,\n",
    "\\chi'), \\chi' \\right) A_{kj}(\\boldsymbol\\theta,\\chi'){\\rm d}\\chi',\n",
    "$$\n",
    "where $\\delta^K_{ij}$ is the Kronecker delta. \n",
    "The image distortions of light sources are described by the\n",
    "magnification matrix\\footnote{We will refer to the {\\bf A} matrix as magnification matrix,  lensing jacobian or distortion tensor as synonyms in the following.} ${\\bf A}(\\boldsymbol\\theta,\\chi) \\equiv\n",
    "\\left \\{ A_{ij}(\\boldsymbol\\theta,\\chi) \\right \\}$, which \n",
    "holds the information of the mapping induced\n",
    "by lensing between the original image and the one at the current position on the lens plane. Note that the gravitational potential $\\Psi$ is evaluated at the ray angular\n",
    "position $\\boldsymbol\\beta(\\boldsymbol\\theta,\\chi)$, while the\n",
    "distortion itself - which is present at the r.h.s of\n",
    "Eq.~\\eqref{eq:distortionmatrix} and describes the {\\it lens-lens coupling} - is computed at the\n",
    "``background'' position $\\boldsymbol\\theta$.\n",
    "The magnification matrix ${\\bf A}$ is typically decomposed into four fields describing how the\n",
    "light rays coming from a source at $\\chi\\equiv \\chi_s$ are transformed by the passage through the matter distribution,\n",
    "$$\n",
    "A_{ij} \\equiv \\begin{pmatrix}\n",
    "  \\cos\\omega & \\sin\\omega\\\\\n",
    "  -\\sin\\omega& \\cos\\omega\n",
    "\\end{pmatrix} \\begin{pmatrix}\n",
    "  1 - \\kappa -\\gamma_1 & -\\gamma_2 \\\\\n",
    "  -\\gamma_2 & 1-\\kappa+\\gamma_1\n",
    "\\end{pmatrix} \\approx\n",
    "\\begin{pmatrix}\n",
    "  1 - \\kappa -\\gamma_1 & -\\gamma_2 + \\omega \\\\\n",
    "  -\\gamma_2 - \\omega & 1-\\kappa+\\gamma_1\n",
    "\\end{pmatrix},\n",
    "$$\n",
    "where we assumed that the image rotation angle $\\omega(\\boldsymbol\\theta,\\chi_s)$ which defines the\n",
    "rotation of the lensed image, is small, and we can work in the weak lensing regime. The\n",
    "field $\\kappa(\\boldsymbol\\theta,\\chi_s)$ is referred to as the convergence while\n",
    "$\\gamma(\\boldsymbol\\theta,\\chi_s) = \\gamma_1(\\boldsymbol\\theta,\\chi_s)\n",
    "+ i\\gamma_2(\\boldsymbol\\theta,\\chi_s)$ defines the complex shear,\n",
    "describing the shearing of the image along the two orthogonal directions of the basis, and can be decomposed into a\n",
    "curl-free part, the shear E-modes $\\gamma_{\\epsilon}(\\boldsymbol\\theta,\\chi_s)$ and a\n",
    "divergence-free one, the shear B-modes $\\gamma_{\\beta}(\\boldsymbol\\theta,\\chi_s)$."
   ]
  },
  {
   "cell_type": "markdown",
   "metadata": {},
   "source": [
    "$$\n",
    "\\boldsymbol\\beta (\\boldsymbol\\theta, \\chi_{s}) = \\boldsymbol\\theta - \\nabla \\psi - \\nabla \\times \\Omega, \n",
    "\\label{eq:hs03}\n",
    "$$\n",
    "where we defined the two-dimensional curl $(\\nabla \\times \\Omega)_i =\n",
    "\\epsilon_{ij}\\partial \\Omega$ and dropped the spatial dependence of the potentials for sake of clarity. This potential $\\Omega^{\\rm eff}$ has to be\n",
    "intended as an 'effective' Born-like potential, integrated along the line of sight, that encodes all the information about the rotation of the image as curl-like patterns are originated in the signal through\n",
    "multiple deflections. All the quantities above can be\n",
    "treated on the sphere using the spin-$s$\n",
    "spherical harmonic decomposition of the full-sky \\cite{Hu2000,Becker12}. In\n",
    "addition, combining results from \\cite{Hu2000} and\n",
    "\\cite{Stebbins1996}, we can derive consistency relations between the components of the magnification matrix and the effective potentials (see Appendix~\\ref{sec:appendix} for further details). \n",
    "\n",
    "\\subsection{Multiple-lens-plane approach}\n",
    "\\label{sec:theory:multiple}\n",
    "Following \\cite{DasBode,Calabrese14}  we note that the Eqs.~\\eqref{eq:lenseq},\\eqref{eq:distortionmatrix} can be discretized by dividing\n",
    "the interval between the observer and the source\n",
    "into concentric $N$ spherical shells, each of comoving thickness $\\Delta \\chi$,\n",
    "denoted by $\\chi_k$ as the comoving distance to the middle of the\n",
    "$k$-th shell and its related redshift $z_k$. \n",
    "A photon incoming on the $k$-th\n",
    "shell at $\\chi_k$ is deflected due to the presence of matter by an\n",
    "angle $\\boldsymbol\\alpha^{(k)}$, which can be approximated by\n",
    "$$\n",
    "\\boldsymbol\\alpha^{(k)} = \\frac{2}{c^2f_K(\\chi_k)} \\int^{\\chi_k+\\Delta \\chi /2}\n",
    "_{\\chi_k-\\Delta \\chi /2} \\nabla_{\\beta} \\Psi(\\boldsymbol\\beta(\\boldsymbol\\theta,\\tilde{\\chi}),\\tilde{\\chi})d\n",
    "\\tilde{\\chi} = \\nabla_{\\beta} \\Phi^{(k)}(\\boldsymbol\\beta(\\boldsymbol\\theta,\\chi_k),\\chi_k),\n",
    "$$\n",
    "where we have defined the 2-D gravitational potential on the sphere as\n",
    "$$\n",
    "\\Phi^{(k)}(\\boldsymbol\\beta(\\boldsymbol\\theta,\\chi_k),\\chi_k) = \\frac{2}{c^2f_K(\\chi_k)} \\int^{\\chi_k+\\Delta \\chi /2}\n",
    "_{\\chi_k-\\Delta \\chi /2} \\Psi(\\boldsymbol\\beta(\\boldsymbol\\theta,\\tilde{\\chi}),\\tilde{\\chi})d\n",
    "\\tilde{\\chi}.\n",
    "$$\n",
    "Here, the notation $(\\boldsymbol\\beta(\\boldsymbol\\theta,\\chi_k),\\chi_k)$ means that the potential is\n",
    "evaluated at the conformal look-back time $\\chi_k$, when the\n",
    "photon, coming from a source at distance $\\chi_s$ from the observer at\n",
    "position $\\boldsymbol\\theta$ on the celestial sphere, was at the position $\\boldsymbol\\beta^{(k)}$. \n",
    "The second derivatives can be combined into the\n",
    "shear matrix ${\\bf U}$:\n",
    "$$\n",
    "U^{(k)}_{ij} = \\frac{\\partial^2 \\Psi^{(k)}(\\boldsymbol\\beta^{(k)}) }{\\partial \\beta^{(k)}_i\n",
    "  \\partial \\beta^{(k)}_j} = \\frac{\\partial \\alpha^{(k)}_i(\\boldsymbol\\beta^{(k)})}{\\partial \\beta^{(k)}_j},\n",
    "$$\n",
    "being $\\boldsymbol\\alpha^{(k)}$ the lensing angle for the $k$-th shell. In case of the full-sky analysis the partial derivative operators have to be promoted to covariant derivatives \\cite{Becker12}. \n",
    "The lensing potential for each matter shell $k$ is the solution of the Poisson equation, i.e.\n",
    "$$ \\nabla^2_{\\hat{n}} \\Phi^{(k)}(\\boldsymbol\\beta^{(k)}) = 2 K^{(k)}(\\boldsymbol\\beta^{(k)}) $$\n",
    "where the convergence field $K^{(k)}$ at the $k$-th shell is\n",
    "$$ K^{(k)}(\\boldsymbol\\beta^{(k)}) = \\frac{4 \\pi  G}{c^2}\\frac{D_A(\\chi_k)}{(1+z_k)^2}\\Delta^{(k)}_{\\Sigma}(\\boldsymbol\\beta^{(k)})$$\n",
    "and $\\Delta^{(k)}_{\\Sigma}(\\hat{n})$ is the (projected)\n",
    "surface mass overdensity, as in \\cite{DasBode,Calabrese14}.\n",
    "In Eq.££ we dropped the term containing the\n",
    "derivatives in the radial direction, ignoring thus \n",
    "long wavelength fluctuations along the line-of-sight via\n",
    "the Limber approximation \\cite{Jain00,Becker12}. As noted in \\cite{Calabrese14}, the results of this approximation are particularly evident if we look at the angular power spectrum for the lensing potential of each single matter shell. However, if we look at the overall effect after a sufficiently long photon path, the partial derivatives in the transverse plane\n",
    "commute with the integral evaluated along the whole line of sight, resulting in the cancellation of\n",
    "line-of-sight modes as required in the Limber approximation of the\n",
    "integral \\cite{DasBode,Li2010,Becker12,Calabrese14}. The lensing potential on the sphere is related to $K^{(k)}$ via Eq.££, and\n",
    "it can be easily computed by expanding both sides of the Poisson\n",
    "equation in spherical harmonics. The quantity $K^{(k)}$ is directly computed when the matter distribution in\n",
    "the shell is radially projected onto the spherical map, as explained in Sec. ££\n",
    " "
   ]
  },
  {
   "cell_type": "markdown",
   "metadata": {},
   "source": [
    "\n",
    "Given the deflection angle at each lens-plane, we can trace back the\n",
    "light coming from a source at position $(\\boldsymbol\\theta,\\chi_s)$ to the observer\n",
    "after $N$ deflections:\n",
    "$$\n",
    "\\boldsymbol\\beta(\\boldsymbol\\theta,\\chi_s) = \\boldsymbol\\theta -\n",
    "\\sum_{i=0}^{N-1}\\frac{f_K(\\chi_s -\n",
    "  \\chi_k)}{f_K(\\chi_s)}\\boldsymbol\\alpha^{(k)}(\\boldsymbol\\beta^{(k)}).\n",
    "\\label{eq:fulllenseq_dis}\n",
    "$$\n",
    "We can easily discretize the Eq.££ as\n",
    "$$\n",
    "A^{N}_{ij}(\\boldsymbol\\theta, \\chi_N) = \\delta^K_{ij} - \\sum^{N-1}_{k=0} \\frac{D_{k,N}}{D_N}\n",
    "U^{(k)}_{ip}(\\boldsymbol\\beta^{(k)},\\chi_k)\n",
    "A^{(k)}_{pj}(\\boldsymbol\\theta,\\chi_k),\n",
    "\\label{eq:distortionmatrix_dis}\n",
    "$$\n",
    "where we defined for simplicity $D_{k,N} = f_K(\\chi_N - \\chi_k)$, \n",
    "$D_k = f_K(\\chi_k)$ while $N$ is the number of planes necessary to reach\n",
    "the source at comoving distance $\\chi_N$.  \n",
    "\n",
    "The method in Eq.££ becomes computationally unfeasible very quickly, especially when we have a large number of lens planes covering a wide sky fraction. It, in fact, requires that for each $k\\textrm{-th}$ iteration all the information of the $k-1$ deflections is kept. This becomes particularly problematic in the case of CMB where the source plane is located at very high redshift and at least 50 (or more) iterations are required to model the path of CMB photons. \n",
    "\\cite{ValeWhite03,Hilbert09} proposed  a more efficient method \n",
    "that requires the combination of only two previous lens-planes\n",
    "instead of the whole set as Eq. ££. The method has been validated on the full-sky in \\cite{Becker12}. The\n",
    "angular position $\\boldsymbol\\beta^{(k)}$ at the $k$-th shell is a\n",
    "function of its two previous positions $\\boldsymbol\\beta^{(k-2)}$ and\n",
    "$\\boldsymbol\\beta^{(k-1)}$ as \n",
    "$$\n",
    "\\boldsymbol\\beta^{(k)}  = \\left(1 -\n",
    "\\frac{D_{k-1}}{D_k}\\frac{D_{k-2,k}}{D_{k-2,k-1}}\\right) \\boldsymbol\\beta^{(k-2)}\n",
    " + \\frac{D_{k-1}}{D_k}\\frac{D_{k-2,k}}{D_{k-2,k-1}} \\boldsymbol\\beta^{(k-1)} \n",
    " - \\frac{D_{k-1,k}}{D_k} \\boldsymbol\\alpha^{(k-1)} (\\boldsymbol\\beta^{(k-1)}),\n",
    "\\label{eq:hilbert-beta}\n",
    "$$\n",
    "and, by differentiating with respect to $\\boldsymbol\\theta$ as in Eq ££, we obtain\n",
    "the recurrence relation for the magnification matrix\n",
    "\\cite{Hilbert09,Becker12} as well:\n",
    "$$\n",
    "A^{(k)}_{ij} = \\left( 1 -\n",
    "\\frac{D_{k-1}}{D_k}\\frac{D_{k-2,k}}{D_{k-2,k-1}}\\right) A^{(k-2)}_{ij} \n",
    " + \\frac{D_{k-1}}{D_k}\\frac{D_{k-2,k}}{D_{k-2,k-1}} A^{(k-1)}_{ij}\n",
    " - \\frac{D_{k-1,k}}{D_k} U^{(k-1)}_{ip} A^{(k-1)}_{pj}.\\\\\n",
    "\\label{eq:hilbert-a}\n",
    "$$\n",
    "These relations require fewer arithmetic operations and memory usage\n",
    "than the standard discretization of Eq ££, therefore allowing us to compute\n",
    "iteratively the magnification matrix for each light-rays from the\n",
    "observer to any source. \n",
    "In the following we will also make use of the so-called magnification matrix in the first\n",
    "order approximation \\cite{Hilbert09} to assess the impact of the second-order effects and to distinguish those from numerical effects. In the multiple-lens formalism this takes the form \n",
    "$$\n",
    "\\label{eq:first_order_aij}\n",
    "A^{(N), {\\rm 1st}}_{ij}(\\boldsymbol\\theta, \\chi_s) = \\delta^K_{ij} - \\sum^{N-1}_{k=0}\n",
    "\\frac{D_{k,N}}{D_N} U^{(k)}_{ij}(\\boldsymbol\\theta,\\chi_k).\n",
    "$$\n"
   ]
  },
  {
   "cell_type": "markdown",
   "metadata": {},
   "source": [
    "## Raytracing\n",
    " Starting from\n",
    "the convergence harmonic coefficients $K^{(k)}_{\\ell m}$ it extracts the lensing potential of each shell solving the Poisson equation in the harmonic domain  as $\\psi^{(k)}_{\\ell m}=-2K^{(k)}_{\\ell m}/[\\ell(\\ell+1)]$. It then computes the deflection field for each lensing plane $\\boldsymbol\\alpha^{(k)}$ assuming the deflection field\n",
    "as a purely gradient field (i.e. a spin-1 curl-free vector field) having E and B decomposition\n",
    "$$_{1}\\alpha^{E}_{\\ell m}{}^{(k)}=\\sqrt{\\ell(\\ell+1)}\\psi^{(k)}_{\\ell m} \\qquad _{1}\\alpha^{B}_{\\ell m}{}^{(k)}=0 $$\n"
   ]
  },
  {
   "cell_type": "markdown",
   "metadata": {},
   "source": [
    "# Algorithm"
   ]
  },
  {
   "cell_type": "markdown",
   "metadata": {},
   "source": [
    "## Build lightcone\n",
    "\n",
    "Construct matter lightcone from Gadget simulation snapshots\n",
    "\n",
    "Done already."
   ]
  },
  {
   "cell_type": "markdown",
   "metadata": {},
   "source": [
    "## Generate density maps\n",
    "For each lens plane (initially use lightcone snapshot shell per lensplane -> 20 lensplanes up to $z=0.85$)\n",
    "map particle count onto full sky map using *healpix*, to obtain the (projected) surface mass overdensity  $\\Delta^{(k)}_{\n",
    "\\Sigma^{\\theta}}({\\bf \\hat{n}}) =  \\Sigma^{\\theta}({\\bf \\hat{n}}) - \\langle \\Sigma^{\\theta}\n",
    "\\rangle$.\n",
    "\n",
    "(Fabbian 2018 used maps having an angular resolution of 52 arcsec corresponding to a NSIDE parameter 4096.)"
   ]
  },
  {
   "cell_type": "markdown",
   "metadata": {},
   "source": [
    "## Calculate convergence maps\n",
    "The lensing potential for each matter shell $k$ is the solution of the Poisson equation, i.e.\n",
    "$$ \\nabla^2_{\\hat{n}} \\Phi^{(k)}(\\boldsymbol\\beta^{(k)}) = 2 K^{(k)}(\\boldsymbol\\beta^{(k)}) $$\n",
    "where the convergence field $K^{(k)}$ at the $k$-th shell is\n",
    "$$ K^{(k)}(\\boldsymbol\\beta^{(k)}) = \\frac{4 \\pi  G}{c^2}\\frac{D_A(\\chi_k)}{(1+z_k)^2}\\Delta^{(k)}_{\\Sigma}(\\boldsymbol\\beta^{(k)})$$\n",
    "\n",
    "Calculate harmonic coefficients of convergence field $K^{(k)}_{\\ell m}$ by solving the Poisson equation in the harmonic domain as $\\psi^{(k)}_{\\ell m}=-2K^{(k)}_{\\ell m}/[\\ell(\\ell+1)]$, using intitally the *map2alm* function in healpix, but possibly subseqently using the parallel SPH routines in *S2HAT*.\n",
    "\n",
    "- convert surface mass overdensity map to $K_{\\ell m}$ using healpix map2alm\n",
    "- divide $K_{\\ell m}$ by ${-\\ell(\\ell+1)}$ to calculate $\\psi_{\\ell m}$\n",
    "- use alm2map_der1 to generate $\\psi$ map as well as first and second derivatives of $\\psi$ with respect to $\\theta_i$ and $\\theta_j$ to construct magnification matrix $\\cal{A}(\\boldsymbol{\\vec\\theta})$\n",
    "\n",
    "using\n",
    "$\\cal{A}(\\boldsymbol{\\vec\\theta})=\\left(\\delta_{ij}-\\dfrac{\\partial^2 \\psi(\\boldsymbol{\\vec\\theta)}}{\\partial\\theta_i \\partial\\theta_j} \\right)$\n",
    "\n",
    "$$\\rightarrow \\cal{A}(\\boldsymbol{\\vec\\theta})=\\left( \n",
    "\\begin{array}{cc}\n",
    " 1 - \\psi_{,11}  & \\psi_{,12} \\\\\n",
    "      \\psi_{,21} & 1 - \\psi_{,22}     \n",
    "\\end{array}\n",
    "\\right)$$\n"
   ]
  },
  {
   "cell_type": "markdown",
   "metadata": {},
   "source": [
    "## Perform raytracing\n",
    "\n",
    "Propagate magnification matrix  $\\cal{A}(\\boldsymbol{\\vec\\theta})$ for each pixel ('ray') through all lens planes:\n",
    "$$\n",
    "A^{N}_{ij}(\\boldsymbol\\theta, \\chi_{s}) = \\delta^{K}_{ij} - \\sum^{N-1}_{k=0}\n",
    "\\frac{\\chi_{N} - \\chi_{k}}{\\chi_{k}} U^{(k)}_{ij}(\\boldsymbol\\theta,\\chi_{k})\n",
    "$$\n",
    "\n",
    "where $U^{(k)}_{ij}$ is the shear matrix, defined as\n",
    "$$\n",
    "\\textbf{U}^{(k)}_{ij}=\\frac{\\partial^2\\psi^{(k)}(\\vec{\\beta}^{(k)})}{\\partial \\beta^{(k)}_i\\partial \\beta^{(k)}_j} = \\frac{\\partial\\alpha^{(k)}_i(\\vec{\\beta}^{(k)})}{\\partial \\beta^{(k)}_j}.\n",
    "$$\n",
    "\n",
    "Rather than summing up over all preceeding lens planes, we can use only the two preceeding planes to calculate the magnification matrix for the current plane\n",
    "$$ A^{(k)}_{ij} = \\left( 1 - \\frac{\\chi_{k-1}}{\\chi_k} \\frac{(\\chi_{k} - \\chi_{k-2})}{(\\chi_{k-1}- \\chi_{k-2})} \\right) A^{(k-2)}_{ij} \n",
    "+ \\frac{\\chi_{k}}{\\chi_{k-1}}\\frac{(\\chi_{k}-\\chi_{k-2})}{(\\chi_{k-1} - \\chi_{k-2})} A^{(k-1)}_{ij}\n",
    "- \\frac{(\\chi_{k} - \\chi_{k-1})}{\\chi_{k}} U^{(k-1)}_{ip} A^{(k-1)}_{pj} $$\n"
   ]
  },
  {
   "cell_type": "code",
   "execution_count": 5,
   "metadata": {},
   "outputs": [
    {
     "data": {
      "image/png": "[encoded data removed]",
      "text/plain": [
       "<IPython.core.display.Image object>"
      ]
     },
     "execution_count": 5,
     "metadata": {},
     "output_type": "execute_result"
    }
   ],
   "source": [
    "Image(filename='light_cone.png')"
   ]
  },
  {
   "cell_type": "markdown",
   "metadata": {},
   "source": [
    "## Calculate convergence and shear maps\n",
    "\n",
    "$\\cal{A}(\\boldsymbol{\\vec\\theta})= \\left( \\begin{array}{cc}\n",
    " 1 - \\kappa - \\gamma_1     & -\\gamma_2 \\\\\n",
    "   -\\gamma_2       & 1-\\kappa+\\gamma_1     \n",
    "\\end{array}\\right)$\n",
    "\n",
    "$\\gamma_1 = \\frac{1}{2}(\\psi_{,11} - \\psi_{,22}) = \\frac{1}{2}(\\cal{A}_{11} -\\cal{A}_{22})$\n",
    "\n",
    "$\\gamma_2 = \\psi_{,12}= \\psi_{,21}  = \\cal{A}_{12}   = \\cal{A}_{21}$\n",
    "\n",
    "$\\gamma \\equiv \\gamma_1 + i\\gamma_2 = |\\gamma| e^{2i\\psi} $\n",
    "\n",
    "$\\displaystyle \\kappa ({\\vec {\\theta }})= \\frac{1}{2}\\left(\\psi_{,11} + \\psi_{,22} \\right) = \\frac{1}{2}(\\cal{A}_{11} +\\cal{A}_{22})$"
   ]
  },
  {
   "cell_type": "markdown",
   "metadata": {},
   "source": [
    "## Alernative methodology\n",
    "(cf. Kilbinger 2016)\n",
    "$$\n",
    "  \\left\\langle \\gamma_{\\rm t} \\right\\rangle (\\theta)\n",
    "  =  \\bar \\kappa (\\le \\theta) - \\left\\langle \\kappa \\right \\rangle (\\theta) \n",
    "$$\n",
    "\n",
    "We can express $\\langle \\gamma_{\\rm t} \\rangle$ in terms of a *surface\n",
    "mass excess* as follows. In the case of a single lens localised at angular\n",
    "diameter distance $D_{\\rm l}$, we can approximate eqn ££ with\n",
    "$$\n",
    "  \\kappa(\\vec \\theta) = \\frac{4 \\pi G}{c^2} \\frac{D_{\\rm l} D_{\\rm ls}}{D_{\\rm s}} \\int\\limits_{D_{\\rm l} - \\Delta D/2}^{D_{\\rm l} + \\Delta D/2}\n",
    "  {\\rm d} D \\, \\Delta \\rho(D \\vec \\theta, D),\n",
    "$$\n",
    "\n",
    "where $D_{\\rm s}$ is the distance to the source, and $D_{\\rm ls}$ the distance\n",
    "between lens and source. All distances in this and subsequent equations are proper distance.\n",
    "The integral over the lens mass density contrast\n",
    "$\\Delta \\rho = \\rho - \\bar \\rho = \\bar \\rho \\delta$ is carried out along the physical\n",
    "extent of the mass\n",
    "concentration $\\Delta D$. This integral is defined as *surface mass density* $\\Sigma$.\n",
    "Introducing the critical surface mass density $\\Sigma_{\\rm cr}^{-1} = (4\\pi G/c^2) (D_{\\rm l}D_{\\rm ls}/D_{\\rm s})$,\n",
    "the convergence is simply\n",
    "$$   \\kappa(\\vec \\theta) = \\frac {\\Sigma(\\vec \\theta)} {\\Sigma_{\\rm cr}} $$\n",
    "\n",
    "Then, eqn ££ can be written in terms of the surface mass as\n",
    "$$ \n",
    "  \\left \\langle \\gamma_{\\rm t} \\right\\rangle (\\theta) \\, \\Sigma_{\\rm cr} = \\Delta \\Sigma(\\le \\theta) = \\bar \\Sigma(\\theta) -\n",
    "  \\left \\langle \\Sigma \\right \\rangle (\\theta) \n",
    "$$\n",
    "\n",
    "where $\\displaystyle \\Sigma_{crit}^{-1}= \\frac{4 \\pi G}{c^2}\\frac{\\chi_{d}(\\chi_{s}-\\chi_{d})}{\\chi_s}$\n",
    "\n",
    "$$\n",
    " \\kappa (\\vec{\\theta}, \\chi)= \\frac{4 \\pi G}{c^2}\\frac{1}{\\chi_{s}}\\!\\sum_{i} (1 + z^{(i)}) \\frac{(\\chi_{s}-\\chi_{d}^{(i)})}{\\chi_d^{(i)}}\\left[\\Sigma^{(i)}(\\vec{\\theta})\\!-\\!\\bar{\\Sigma}^{(i)}\\right]\n",
    "$$\n",
    "where $\\Sigma^{(i)}$ denotes the angular surface mass density, $\\bar{\\Sigma}^{(i)}$ is the mean angular surface mass density of the $i$-th shell, and $f_{DS}^{(i)}$ and $f_D^{(i)}$ are the corresponding distances at the redshift of the $i$-th shell. The angular position of the center of each \\healpix{} pixel coincides with the direction of propagation of the rays in the Born approximation.\n"
   ]
  },
  {
   "cell_type": "markdown",
   "metadata": {},
   "source": [
    "# Memory requirements"
   ]
  },
  {
   "cell_type": "code",
   "execution_count": 19,
   "metadata": {},
   "outputs": [],
   "source": [
    "b = 24 #64 # bytes of storage per ray\n",
    "nplanes = 20 #number of lensplanes\n",
    "res = np.arange(16)\n",
    "nside = np.int64(2**res)\n",
    "npix = np.int64(12 * nside**2)\n",
    "deg = hp.nside2resol(nside, arcmin = True)\n",
    "mapsize = (npix * b) /2**30\n",
    "tab = Table([res, nside, npix, deg, mapsize], names=('res', 'nside', 'npix', 'angle (arcmin)','Gbytes/plane'))"
   ]
  },
  {
   "cell_type": "code",
   "execution_count": 20,
   "metadata": {},
   "outputs": [
    {
     "data": {
      "text/html": [
       "<i>Table length=16</i>\n",
       "<table id=\"table47344621404624\" class=\"table-striped table-bordered table-condensed\">\n",
       "<thead><tr><th>res</th><th>nside</th><th>npix</th><th>angle (arcmin)</th><th>Gbytes/plane</th></tr></thead>\n",
       "<thead><tr><th>int64</th><th>int64</th><th>int64</th><th>float64</th><th>float64</th></tr></thead>\n",
       "<tr><td>0</td><td>1</td><td>12</td><td>3517.9380857010237</td><td>2.682209014892578e-07</td></tr>\n",
       "<tr><td>1</td><td>2</td><td>48</td><td>1758.9690428505119</td><td>1.0728836059570312e-06</td></tr>\n",
       "<tr><td>2</td><td>4</td><td>192</td><td>879.4845214252559</td><td>4.291534423828125e-06</td></tr>\n",
       "<tr><td>3</td><td>8</td><td>768</td><td>439.74226071262797</td><td>1.71661376953125e-05</td></tr>\n",
       "<tr><td>4</td><td>16</td><td>3072</td><td>219.87113035631398</td><td>6.866455078125e-05</td></tr>\n",
       "<tr><td>5</td><td>32</td><td>12288</td><td>109.93556517815699</td><td>0.000274658203125</td></tr>\n",
       "<tr><td>6</td><td>64</td><td>49152</td><td>54.967782589078496</td><td>0.0010986328125</td></tr>\n",
       "<tr><td>7</td><td>128</td><td>196608</td><td>27.483891294539248</td><td>0.00439453125</td></tr>\n",
       "<tr><td>8</td><td>256</td><td>786432</td><td>13.741945647269624</td><td>0.017578125</td></tr>\n",
       "<tr><td>9</td><td>512</td><td>3145728</td><td>6.870972823634812</td><td>0.0703125</td></tr>\n",
       "<tr><td>10</td><td>1024</td><td>12582912</td><td>3.435486411817406</td><td>0.28125</td></tr>\n",
       "<tr><td>11</td><td>2048</td><td>50331648</td><td>1.717743205908703</td><td>1.125</td></tr>\n",
       "<tr><td>12</td><td>4096</td><td>201326592</td><td>0.8588716029543515</td><td>4.5</td></tr>\n",
       "<tr><td>13</td><td>8192</td><td>805306368</td><td>0.42943580147717575</td><td>18.0</td></tr>\n",
       "<tr><td>14</td><td>16384</td><td>3221225472</td><td>0.21471790073858787</td><td>72.0</td></tr>\n",
       "<tr><td>15</td><td>32768</td><td>12884901888</td><td>0.10735895036929394</td><td>288.0</td></tr>\n",
       "</table>"
      ],
      "text/plain": [
       "<Table length=16>\n",
       " res  nside     npix       angle (arcmin)        Gbytes/plane     \n",
       "int64 int64    int64          float64              float64        \n",
       "----- ----- ----------- ------------------- ----------------------\n",
       "    0     1          12  3517.9380857010237  2.682209014892578e-07\n",
       "    1     2          48  1758.9690428505119 1.0728836059570312e-06\n",
       "    2     4         192   879.4845214252559  4.291534423828125e-06\n",
       "    3     8         768  439.74226071262797   1.71661376953125e-05\n",
       "    4    16        3072  219.87113035631398     6.866455078125e-05\n",
       "    5    32       12288  109.93556517815699      0.000274658203125\n",
       "    6    64       49152  54.967782589078496        0.0010986328125\n",
       "    7   128      196608  27.483891294539248          0.00439453125\n",
       "    8   256      786432  13.741945647269624            0.017578125\n",
       "    9   512     3145728   6.870972823634812              0.0703125\n",
       "   10  1024    12582912   3.435486411817406                0.28125\n",
       "   11  2048    50331648   1.717743205908703                  1.125\n",
       "   12  4096   201326592  0.8588716029543515                    4.5\n",
       "   13  8192   805306368 0.42943580147717575                   18.0\n",
       "   14 16384  3221225472 0.21471790073858787                   72.0\n",
       "   15 32768 12884901888 0.10735895036929394                  288.0"
      ]
     },
     "execution_count": 20,
     "metadata": {},
     "output_type": "execute_result"
    }
   ],
   "source": [
    "tab"
   ]
  },
  {
   "cell_type": "code",
   "execution_count": 18,
   "metadata": {},
   "outputs": [
    {
     "data": {
      "text/plain": [
       "array([3517.9380857, 3517.9380857, 3517.9380857, 3517.9380857,\n",
       "       3517.9380857, 3517.9380857, 3517.9380857, 3517.9380857,\n",
       "       3517.9380857, 3517.9380857, 3517.9380857, 3517.9380857,\n",
       "       3517.9380857, 3517.9380857, 3517.9380857, 3517.9380857])"
      ]
     },
     "execution_count": 18,
     "metadata": {},
     "output_type": "execute_result"
    }
   ],
   "source": [
    "nside * deg"
   ]
  },
  {
   "cell_type": "code",
   "execution_count": null,
   "metadata": {},
   "outputs": [],
   "source": []
  }
 ],
 "metadata": {
  "hide_input": false,
  "kernelspec": {
   "display_name": "Python 3",
   "language": "python",
   "name": "python3"
  },
  "language_info": {
   "codemirror_mode": {
    "name": "ipython",
    "version": 3
   },
   "file_extension": ".py",
   "mimetype": "text/x-python",
   "name": "python",
   "nbconvert_exporter": "python",
   "pygments_lexer": "ipython3",
   "version": "3.6.5"
  }
 },
 "nbformat": 4,
 "nbformat_minor": 4
}
